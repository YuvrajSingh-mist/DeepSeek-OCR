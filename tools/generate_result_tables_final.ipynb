{
 "cells": [
  {
   "cell_type": "code",
   "execution_count": 172,
   "metadata": {},
   "outputs": [],
   "source": [
    "import os\n",
    "import pandas as pd\n",
    "import numpy as np\n",
    "import json\n",
    "\n",
    "\n",
    "ocr_types_dict = {\n",
    "    # 'end2end': 'results_dpsk_uncleaned/results_dpsk'\n",
    "    # 'end2end': 'dpsk_cleaned_results/results_dpsk-cleaned'\n",
    "    # 'end2end' : 'olmo_ocr_2_results/images_to_pdf'\n",
    "    # 'end2end': 'olmo_ocr_2_results_english/images_to_pdf'\n",
    "    # 'end2end': 'dpsk_results_english/results_dpsk-cleaned'\n",
    "    'end2end' : 'dpsk_results_chinese/results_dpsk-cleaned'\n",
    "    # 'end2end' : 'olmo_ocr_2_results_chinese/images_to_pdf'\n",
    "}\n",
    "\n",
    "result_folder = '../result'\n",
    "\n",
    "# match_name = 'no_split'\n",
    "match_name = 'quick_match'"
   ]
  },
  {
   "cell_type": "code",
   "execution_count": 151,
   "metadata": {},
   "outputs": [
    {
     "data": {
      "text/plain": [
       "dict_values(['results_dpsk_uncleaned/results_dpsk'])"
      ]
     },
     "execution_count": 151,
     "metadata": {},
     "output_type": "execute_result"
    }
   ],
   "source": [
    "ocr_types_dict.values()"
   ]
  },
  {
   "cell_type": "code",
   "execution_count": 152,
   "metadata": {},
   "outputs": [
    {
     "name": "stdout",
     "output_type": "stream",
     "text": [
      "../result/results_dpsk_uncleaned/results_dpsk_quick_match_metric_result.json\n"
     ]
    },
    {
     "data": {
      "text/html": [
       "<div>\n",
       "<style scoped>\n",
       "    .dataframe tbody tr th:only-of-type {\n",
       "        vertical-align: middle;\n",
       "    }\n",
       "\n",
       "    .dataframe tbody tr th {\n",
       "        vertical-align: top;\n",
       "    }\n",
       "\n",
       "    .dataframe thead th {\n",
       "        text-align: right;\n",
       "    }\n",
       "</style>\n",
       "<table border=\"1\" class=\"dataframe\">\n",
       "  <thead>\n",
       "    <tr style=\"text-align: right;\">\n",
       "      <th></th>\n",
       "      <th>text_block_Edit_dist</th>\n",
       "      <th>display_formula_Edit_dist</th>\n",
       "      <th>table_TEDS</th>\n",
       "      <th>table_TEDS_structure_only</th>\n",
       "      <th>reading_order_Edit_dist</th>\n",
       "      <th>overall</th>\n",
       "    </tr>\n",
       "  </thead>\n",
       "  <tbody>\n",
       "    <tr>\n",
       "      <th>end2end</th>\n",
       "      <td>0.382</td>\n",
       "      <td>0.266</td>\n",
       "      <td>87.418</td>\n",
       "      <td>91.235</td>\n",
       "      <td>0.101</td>\n",
       "      <td>74.206</td>\n",
       "    </tr>\n",
       "  </tbody>\n",
       "</table>\n",
       "</div>"
      ],
      "text/plain": [
       "         text_block_Edit_dist  display_formula_Edit_dist  table_TEDS  \\\n",
       "end2end                 0.382                      0.266      87.418   \n",
       "\n",
       "         table_TEDS_structure_only  reading_order_Edit_dist  overall  \n",
       "end2end                     91.235                    0.101   74.206  "
      ]
     },
     "execution_count": 152,
     "metadata": {},
     "output_type": "execute_result"
    }
   ],
   "source": [
    "# overall result: not distinguishing between Chinese and English, page-level average\n",
    "#using uncleaned markdown files\n",
    "dict_list = []\n",
    "\n",
    "for ocr_type in ocr_types_dict.values():\n",
    "    result_path = os.path.join(result_folder, f'{ocr_type}_{match_name}_metric_result.json')\n",
    "    print(result_path)\n",
    "    with open(result_path, 'r') as f:\n",
    "        result = json.load(f)\n",
    "    \n",
    "    save_dict = {}\n",
    "\n",
    "    for category_type, metric in [(\"text_block\", \"Edit_dist\"), (\"display_formula\", \"Edit_dist\"), (\"table\", \"TEDS\"), (\"table\", \"TEDS_structure_only\"), (\"reading_order\", \"Edit_dist\")]:\n",
    "        if metric == 'CDM' or metric == \"TEDS\" or metric == \"TEDS_structure_only\":\n",
    "            if result[category_type][\"page\"].get(metric):\n",
    "                save_dict[category_type+'_'+metric] = result[category_type][\"page\"][metric][\"ALL\"] * 100   # page级别的avg\n",
    "            else:\n",
    "                save_dict[category_type+'_'+metric] = 0\n",
    "        else:\n",
    "            save_dict[category_type+'_'+metric] = result[category_type][\"all\"][metric].get(\"ALL_page_avg\", np.nan)\n",
    "\n",
    "    dict_list.append(save_dict)\n",
    "    \n",
    "df = pd.DataFrame(dict_list, index=ocr_types_dict.keys()).round(3)\n",
    "df['overall'] = ((1-df['text_block_Edit_dist'])*100 + (1 - df['display_formula_Edit_dist']) * 100 + df['table_TEDS'])/3\n",
    "# df.to_csv('./overall.csv')\n",
    "\n",
    "df"
   ]
  },
  {
   "cell_type": "code",
   "execution_count": 149,
   "metadata": {},
   "outputs": [
    {
     "name": "stdout",
     "output_type": "stream",
     "text": [
      "../result/dpsk_cleaned_results/results_dpsk-cleaned_quick_match_metric_result.json\n"
     ]
    },
    {
     "data": {
      "text/html": [
       "<div>\n",
       "<style scoped>\n",
       "    .dataframe tbody tr th:only-of-type {\n",
       "        vertical-align: middle;\n",
       "    }\n",
       "\n",
       "    .dataframe tbody tr th {\n",
       "        vertical-align: top;\n",
       "    }\n",
       "\n",
       "    .dataframe thead th {\n",
       "        text-align: right;\n",
       "    }\n",
       "</style>\n",
       "<table border=\"1\" class=\"dataframe\">\n",
       "  <thead>\n",
       "    <tr style=\"text-align: right;\">\n",
       "      <th></th>\n",
       "      <th>text_block_Edit_dist</th>\n",
       "      <th>display_formula_Edit_dist</th>\n",
       "      <th>table_TEDS</th>\n",
       "      <th>table_TEDS_structure_only</th>\n",
       "      <th>reading_order_Edit_dist</th>\n",
       "      <th>overall</th>\n",
       "    </tr>\n",
       "  </thead>\n",
       "  <tbody>\n",
       "    <tr>\n",
       "      <th>end2end</th>\n",
       "      <td>0.074</td>\n",
       "      <td>0.273</td>\n",
       "      <td>87.418</td>\n",
       "      <td>91.235</td>\n",
       "      <td>0.089</td>\n",
       "      <td>84.239333</td>\n",
       "    </tr>\n",
       "  </tbody>\n",
       "</table>\n",
       "</div>"
      ],
      "text/plain": [
       "         text_block_Edit_dist  display_formula_Edit_dist  table_TEDS  \\\n",
       "end2end                 0.074                      0.273      87.418   \n",
       "\n",
       "         table_TEDS_structure_only  reading_order_Edit_dist    overall  \n",
       "end2end                     91.235                    0.089  84.239333  "
      ]
     },
     "execution_count": 149,
     "metadata": {},
     "output_type": "execute_result"
    }
   ],
   "source": [
    "# overall result: not distinguishing between Chinese and English, page-level average\n",
    "\n",
    "#Started metric collection from here!\n",
    "#using cleaned markdown files - DeepSeek-OCR-overall (default)\n",
    "\n",
    "\n",
    "dict_list = []\n",
    "\n",
    "for ocr_type in ocr_types_dict.values():\n",
    "    result_path = os.path.join(result_folder, f'{ocr_type}_{match_name}_metric_result.json')\n",
    "    print(result_path)\n",
    "    with open(result_path, 'r') as f:\n",
    "        result = json.load(f)\n",
    "    \n",
    "    save_dict = {}\n",
    "\n",
    "    for category_type, metric in [(\"text_block\", \"Edit_dist\"), (\"display_formula\", \"Edit_dist\"), (\"table\", \"TEDS\"), (\"table\", \"TEDS_structure_only\"), (\"reading_order\", \"Edit_dist\")]:\n",
    "        if metric == 'CDM' or metric == \"TEDS\" or metric == \"TEDS_structure_only\":\n",
    "            if result[category_type][\"page\"].get(metric):\n",
    "                save_dict[category_type+'_'+metric] = result[category_type][\"page\"][metric][\"ALL\"] * 100   # page级别的avg\n",
    "            else:\n",
    "                save_dict[category_type+'_'+metric] = 0\n",
    "        else:\n",
    "            save_dict[category_type+'_'+metric] = result[category_type][\"all\"][metric].get(\"ALL_page_avg\", np.nan)\n",
    "\n",
    "    dict_list.append(save_dict)\n",
    "    \n",
    "df = pd.DataFrame(dict_list, index=ocr_types_dict.keys()).round(3)\n",
    "df['overall'] = ((1-df['text_block_Edit_dist'])*100 + (1-df['display_formula_Edit_dist']) * 100 + df['table_TEDS'])/3\n",
    "# df.to_csv('./overall.csv')\n",
    "\n",
    "df"
   ]
  },
  {
   "cell_type": "code",
   "execution_count": null,
   "metadata": {},
   "outputs": [],
   "source": [
    "#using olmo-ocr-2"
   ]
  },
  {
   "cell_type": "code",
   "execution_count": 154,
   "metadata": {},
   "outputs": [
    {
     "name": "stdout",
     "output_type": "stream",
     "text": [
      "../result/olmo_ocr_2_results/images_to_pdf_quick_match_metric_result.json\n"
     ]
    },
    {
     "data": {
      "text/html": [
       "<div>\n",
       "<style scoped>\n",
       "    .dataframe tbody tr th:only-of-type {\n",
       "        vertical-align: middle;\n",
       "    }\n",
       "\n",
       "    .dataframe tbody tr th {\n",
       "        vertical-align: top;\n",
       "    }\n",
       "\n",
       "    .dataframe thead th {\n",
       "        text-align: right;\n",
       "    }\n",
       "</style>\n",
       "<table border=\"1\" class=\"dataframe\">\n",
       "  <thead>\n",
       "    <tr style=\"text-align: right;\">\n",
       "      <th></th>\n",
       "      <th>text_block_Edit_dist</th>\n",
       "      <th>display_formula_Edit_dist</th>\n",
       "      <th>table_TEDS</th>\n",
       "      <th>table_TEDS_structure_only</th>\n",
       "      <th>reading_order_Edit_dist</th>\n",
       "      <th>overall</th>\n",
       "    </tr>\n",
       "  </thead>\n",
       "  <tbody>\n",
       "    <tr>\n",
       "      <th>end2end</th>\n",
       "      <td>0.107</td>\n",
       "      <td>0.238</td>\n",
       "      <td>79.203</td>\n",
       "      <td>83.672</td>\n",
       "      <td>0.113</td>\n",
       "      <td>81.567667</td>\n",
       "    </tr>\n",
       "  </tbody>\n",
       "</table>\n",
       "</div>"
      ],
      "text/plain": [
       "         text_block_Edit_dist  display_formula_Edit_dist  table_TEDS  \\\n",
       "end2end                 0.107                      0.238      79.203   \n",
       "\n",
       "         table_TEDS_structure_only  reading_order_Edit_dist    overall  \n",
       "end2end                     83.672                    0.113  81.567667  "
      ]
     },
     "execution_count": 154,
     "metadata": {},
     "output_type": "execute_result"
    }
   ],
   "source": [
    "# overall result: not distinguishing between Chinese and English, page-level average\n",
    "\n",
    "dict_list = []\n",
    "\n",
    "for ocr_type in ocr_types_dict.values():\n",
    "    result_path = os.path.join(result_folder, f'{ocr_type}_{match_name}_metric_result.json')\n",
    "    print(result_path)\n",
    "    with open(result_path, 'r') as f:\n",
    "        result = json.load(f)\n",
    "    \n",
    "    save_dict = {}\n",
    "\n",
    "    for category_type, metric in [(\"text_block\", \"Edit_dist\"), (\"display_formula\", \"Edit_dist\"), (\"table\", \"TEDS\"), (\"table\", \"TEDS_structure_only\"), (\"reading_order\", \"Edit_dist\")]:\n",
    "        if metric == 'CDM' or metric == \"TEDS\" or metric == \"TEDS_structure_only\":\n",
    "            if result[category_type][\"page\"].get(metric):\n",
    "                save_dict[category_type+'_'+metric] = result[category_type][\"page\"][metric][\"ALL\"] * 100   # page级别的avg\n",
    "            else:\n",
    "                save_dict[category_type+'_'+metric] = 0\n",
    "        else:\n",
    "            save_dict[category_type+'_'+metric] = result[category_type][\"all\"][metric].get(\"ALL_page_avg\", np.nan)\n",
    "\n",
    "    dict_list.append(save_dict)\n",
    "    \n",
    "df = pd.DataFrame(dict_list, index=ocr_types_dict.keys()).round(3)\n",
    "df['overall'] = ((1-df['text_block_Edit_dist'])*100 + (1 - df['display_formula_Edit_dist']) * 100 + df['table_TEDS'])/3\n",
    "# df.to_csv('./overall.csv')\n",
    "\n",
    "df"
   ]
  },
  {
   "cell_type": "code",
   "execution_count": 100,
   "metadata": {},
   "outputs": [],
   "source": [
    "#English"
   ]
  },
  {
   "cell_type": "code",
   "execution_count": 101,
   "metadata": {},
   "outputs": [],
   "source": [
    "#Olmo-OCR2"
   ]
  },
  {
   "cell_type": "code",
   "execution_count": 163,
   "metadata": {},
   "outputs": [
    {
     "name": "stdout",
     "output_type": "stream",
     "text": [
      "../result/olmo_ocr_2_results_english/images_to_pdf_quick_match_metric_result.json\n"
     ]
    },
    {
     "data": {
      "text/html": [
       "<div>\n",
       "<style scoped>\n",
       "    .dataframe tbody tr th:only-of-type {\n",
       "        vertical-align: middle;\n",
       "    }\n",
       "\n",
       "    .dataframe tbody tr th {\n",
       "        vertical-align: top;\n",
       "    }\n",
       "\n",
       "    .dataframe thead th {\n",
       "        text-align: right;\n",
       "    }\n",
       "</style>\n",
       "<table border=\"1\" class=\"dataframe\">\n",
       "  <thead>\n",
       "    <tr style=\"text-align: right;\">\n",
       "      <th></th>\n",
       "      <th>text_block_Edit_dist</th>\n",
       "      <th>display_formula_Edit_dist</th>\n",
       "      <th>table_TEDS</th>\n",
       "      <th>table_TEDS_structure_only</th>\n",
       "      <th>reading_order_Edit_dist</th>\n",
       "      <th>overall</th>\n",
       "    </tr>\n",
       "  </thead>\n",
       "  <tbody>\n",
       "    <tr>\n",
       "      <th>end2end</th>\n",
       "      <td>0.055</td>\n",
       "      <td>0.193</td>\n",
       "      <td>78.724</td>\n",
       "      <td>85.021</td>\n",
       "      <td>0.071</td>\n",
       "      <td>84.641333</td>\n",
       "    </tr>\n",
       "  </tbody>\n",
       "</table>\n",
       "</div>"
      ],
      "text/plain": [
       "         text_block_Edit_dist  display_formula_Edit_dist  table_TEDS  \\\n",
       "end2end                 0.055                      0.193      78.724   \n",
       "\n",
       "         table_TEDS_structure_only  reading_order_Edit_dist    overall  \n",
       "end2end                     85.021                    0.071  84.641333  "
      ]
     },
     "execution_count": 163,
     "metadata": {},
     "output_type": "execute_result"
    }
   ],
   "source": [
    "\n",
    "dict_list = []\n",
    "\n",
    "for ocr_type in ocr_types_dict.values():\n",
    "    result_path = os.path.join(result_folder, f'{ocr_type}_{match_name}_metric_result.json')\n",
    "    print(result_path)\n",
    "    with open(result_path, 'r') as f:\n",
    "        result = json.load(f)\n",
    "    \n",
    "    save_dict = {}\n",
    "\n",
    "    for category_type, metric in [(\"text_block\", \"Edit_dist\"), (\"display_formula\", \"Edit_dist\"), (\"table\", \"TEDS\"), (\"table\", \"TEDS_structure_only\"), (\"reading_order\", \"Edit_dist\")]:\n",
    "        if metric == 'CDM' or metric == \"TEDS\" or metric == \"TEDS_structure_only\":\n",
    "            if result[category_type][\"page\"].get(metric):\n",
    "                save_dict[category_type+'_'+metric] = result[category_type][\"page\"][metric][\"ALL\"] * 100   # page级别的avg\n",
    "            else:\n",
    "                save_dict[category_type+'_'+metric] = 0\n",
    "        else:\n",
    "            save_dict[category_type+'_'+metric] = result[category_type][\"all\"][metric].get(\"ALL_page_avg\", np.nan)\n",
    "\n",
    "    dict_list.append(save_dict)\n",
    "    \n",
    "df = pd.DataFrame(dict_list, index=ocr_types_dict.keys()).round(3)\n",
    "df['overall'] = ((1-df['text_block_Edit_dist'])*100 + (1 - df['display_formula_Edit_dist']) * 100 + df['table_TEDS'])/3\n",
    "# df.to_csv('./overall.csv')\n",
    "\n",
    "df"
   ]
  },
  {
   "cell_type": "code",
   "execution_count": 157,
   "metadata": {},
   "outputs": [],
   "source": [
    "#dpsk-ocr"
   ]
  },
  {
   "cell_type": "code",
   "execution_count": 160,
   "metadata": {},
   "outputs": [
    {
     "name": "stdout",
     "output_type": "stream",
     "text": [
      "../result/dpsk_results_english/results_dpsk-cleaned_quick_match_metric_result.json\n"
     ]
    },
    {
     "data": {
      "text/html": [
       "<div>\n",
       "<style scoped>\n",
       "    .dataframe tbody tr th:only-of-type {\n",
       "        vertical-align: middle;\n",
       "    }\n",
       "\n",
       "    .dataframe tbody tr th {\n",
       "        vertical-align: top;\n",
       "    }\n",
       "\n",
       "    .dataframe thead th {\n",
       "        text-align: right;\n",
       "    }\n",
       "</style>\n",
       "<table border=\"1\" class=\"dataframe\">\n",
       "  <thead>\n",
       "    <tr style=\"text-align: right;\">\n",
       "      <th></th>\n",
       "      <th>text_block_Edit_dist</th>\n",
       "      <th>display_formula_Edit_dist</th>\n",
       "      <th>table_TEDS</th>\n",
       "      <th>table_TEDS_structure_only</th>\n",
       "      <th>reading_order_Edit_dist</th>\n",
       "      <th>overall</th>\n",
       "    </tr>\n",
       "  </thead>\n",
       "  <tbody>\n",
       "    <tr>\n",
       "      <th>end2end</th>\n",
       "      <td>0.033</td>\n",
       "      <td>0.161</td>\n",
       "      <td>81.642</td>\n",
       "      <td>87.57</td>\n",
       "      <td>0.048</td>\n",
       "      <td>87.414</td>\n",
       "    </tr>\n",
       "  </tbody>\n",
       "</table>\n",
       "</div>"
      ],
      "text/plain": [
       "         text_block_Edit_dist  display_formula_Edit_dist  table_TEDS  \\\n",
       "end2end                 0.033                      0.161      81.642   \n",
       "\n",
       "         table_TEDS_structure_only  reading_order_Edit_dist  overall  \n",
       "end2end                      87.57                    0.048   87.414  "
      ]
     },
     "execution_count": 160,
     "metadata": {},
     "output_type": "execute_result"
    }
   ],
   "source": [
    "\n",
    "dict_list = []\n",
    "\n",
    "for ocr_type in ocr_types_dict.values():\n",
    "    result_path = os.path.join(result_folder, f'{ocr_type}_{match_name}_metric_result.json')\n",
    "    print(result_path)\n",
    "    with open(result_path, 'r') as f:\n",
    "        result = json.load(f)\n",
    "    \n",
    "    save_dict = {}\n",
    "\n",
    "    for category_type, metric in [(\"text_block\", \"Edit_dist\"), (\"display_formula\", \"Edit_dist\"), (\"table\", \"TEDS\"), (\"table\", \"TEDS_structure_only\"), (\"reading_order\", \"Edit_dist\")]:\n",
    "        if metric == 'CDM' or metric == \"TEDS\" or metric == \"TEDS_structure_only\":\n",
    "            if result[category_type][\"page\"].get(metric):\n",
    "                save_dict[category_type+'_'+metric] = result[category_type][\"page\"][metric][\"ALL\"] * 100   # page级别的avg\n",
    "            else:\n",
    "                save_dict[category_type+'_'+metric] = 0\n",
    "        else:\n",
    "            save_dict[category_type+'_'+metric] = result[category_type][\"all\"][metric].get(\"ALL_page_avg\", np.nan)\n",
    "\n",
    "    dict_list.append(save_dict)\n",
    "    \n",
    "df = pd.DataFrame(dict_list, index=ocr_types_dict.keys()).round(3)\n",
    "df['overall'] = ((1-df['text_block_Edit_dist'])*100 + (1 - df['display_formula_Edit_dist']) * 100 + df['table_TEDS'])/3\n",
    "# df.to_csv('./overall.csv')\n",
    "\n",
    "df"
   ]
  },
  {
   "cell_type": "code",
   "execution_count": 165,
   "metadata": {},
   "outputs": [],
   "source": [
    "#Chinese"
   ]
  },
  {
   "cell_type": "code",
   "execution_count": 166,
   "metadata": {},
   "outputs": [],
   "source": [
    "#Olmo-ocr-2"
   ]
  },
  {
   "cell_type": "code",
   "execution_count": null,
   "metadata": {},
   "outputs": [],
   "source": []
  },
  {
   "cell_type": "code",
   "execution_count": 169,
   "metadata": {},
   "outputs": [
    {
     "name": "stdout",
     "output_type": "stream",
     "text": [
      "../result/olmo_ocr_2_results_chinese/images_to_pdf_quick_match_metric_result.json\n"
     ]
    },
    {
     "data": {
      "text/html": [
       "<div>\n",
       "<style scoped>\n",
       "    .dataframe tbody tr th:only-of-type {\n",
       "        vertical-align: middle;\n",
       "    }\n",
       "\n",
       "    .dataframe tbody tr th {\n",
       "        vertical-align: top;\n",
       "    }\n",
       "\n",
       "    .dataframe thead th {\n",
       "        text-align: right;\n",
       "    }\n",
       "</style>\n",
       "<table border=\"1\" class=\"dataframe\">\n",
       "  <thead>\n",
       "    <tr style=\"text-align: right;\">\n",
       "      <th></th>\n",
       "      <th>text_block_Edit_dist</th>\n",
       "      <th>display_formula_Edit_dist</th>\n",
       "      <th>table_TEDS</th>\n",
       "      <th>table_TEDS_structure_only</th>\n",
       "      <th>reading_order_Edit_dist</th>\n",
       "      <th>overall</th>\n",
       "    </tr>\n",
       "  </thead>\n",
       "  <tbody>\n",
       "    <tr>\n",
       "      <th>end2end</th>\n",
       "      <td>0.168</td>\n",
       "      <td>0.368</td>\n",
       "      <td>81.549</td>\n",
       "      <td>85.187</td>\n",
       "      <td>0.163</td>\n",
       "      <td>75.983</td>\n",
       "    </tr>\n",
       "  </tbody>\n",
       "</table>\n",
       "</div>"
      ],
      "text/plain": [
       "         text_block_Edit_dist  display_formula_Edit_dist  table_TEDS  \\\n",
       "end2end                 0.168                      0.368      81.549   \n",
       "\n",
       "         table_TEDS_structure_only  reading_order_Edit_dist  overall  \n",
       "end2end                     85.187                    0.163   75.983  "
      ]
     },
     "execution_count": 169,
     "metadata": {},
     "output_type": "execute_result"
    }
   ],
   "source": [
    "\n",
    "dict_list = []\n",
    "\n",
    "for ocr_type in ocr_types_dict.values():\n",
    "    result_path = os.path.join(result_folder, f'{ocr_type}_{match_name}_metric_result.json')\n",
    "    print(result_path)\n",
    "    with open(result_path, 'r') as f:\n",
    "        result = json.load(f)\n",
    "    \n",
    "    save_dict = {}\n",
    "\n",
    "    for category_type, metric in [(\"text_block\", \"Edit_dist\"), (\"display_formula\", \"Edit_dist\"), (\"table\", \"TEDS\"), (\"table\", \"TEDS_structure_only\"), (\"reading_order\", \"Edit_dist\")]:\n",
    "        if metric == 'CDM' or metric == \"TEDS\" or metric == \"TEDS_structure_only\":\n",
    "            if result[category_type][\"page\"].get(metric):\n",
    "                save_dict[category_type+'_'+metric] = result[category_type][\"page\"][metric][\"ALL\"] * 100   # page级别的avg\n",
    "            else:\n",
    "                save_dict[category_type+'_'+metric] = 0\n",
    "        else:\n",
    "            save_dict[category_type+'_'+metric] = result[category_type][\"all\"][metric].get(\"ALL_page_avg\", np.nan)\n",
    "\n",
    "    dict_list.append(save_dict)\n",
    "    \n",
    "df = pd.DataFrame(dict_list, index=ocr_types_dict.keys()).round(3)\n",
    "df['overall'] = ((1-df['text_block_Edit_dist'])*100 + (1 - df['display_formula_Edit_dist']) * 100 + df['table_TEDS'])/3\n",
    "# df.to_csv('./overall.csv')\n",
    "\n",
    "df"
   ]
  },
  {
   "cell_type": "code",
   "execution_count": 167,
   "metadata": {},
   "outputs": [],
   "source": [
    "#dpsk-ocr"
   ]
  },
  {
   "cell_type": "code",
   "execution_count": 173,
   "metadata": {},
   "outputs": [
    {
     "name": "stdout",
     "output_type": "stream",
     "text": [
      "../result/dpsk_results_chinese/results_dpsk-cleaned_quick_match_metric_result.json\n"
     ]
    },
    {
     "data": {
      "text/html": [
       "<div>\n",
       "<style scoped>\n",
       "    .dataframe tbody tr th:only-of-type {\n",
       "        vertical-align: middle;\n",
       "    }\n",
       "\n",
       "    .dataframe tbody tr th {\n",
       "        vertical-align: top;\n",
       "    }\n",
       "\n",
       "    .dataframe thead th {\n",
       "        text-align: right;\n",
       "    }\n",
       "</style>\n",
       "<table border=\"1\" class=\"dataframe\">\n",
       "  <thead>\n",
       "    <tr style=\"text-align: right;\">\n",
       "      <th></th>\n",
       "      <th>text_block_Edit_dist</th>\n",
       "      <th>display_formula_Edit_dist</th>\n",
       "      <th>table_TEDS</th>\n",
       "      <th>table_TEDS_structure_only</th>\n",
       "      <th>reading_order_Edit_dist</th>\n",
       "      <th>overall</th>\n",
       "    </tr>\n",
       "  </thead>\n",
       "  <tbody>\n",
       "    <tr>\n",
       "      <th>end2end</th>\n",
       "      <td>0.087</td>\n",
       "      <td>0.346</td>\n",
       "      <td>90.171</td>\n",
       "      <td>92.975</td>\n",
       "      <td>0.103</td>\n",
       "      <td>82.290333</td>\n",
       "    </tr>\n",
       "  </tbody>\n",
       "</table>\n",
       "</div>"
      ],
      "text/plain": [
       "         text_block_Edit_dist  display_formula_Edit_dist  table_TEDS  \\\n",
       "end2end                 0.087                      0.346      90.171   \n",
       "\n",
       "         table_TEDS_structure_only  reading_order_Edit_dist    overall  \n",
       "end2end                     92.975                    0.103  82.290333  "
      ]
     },
     "execution_count": 173,
     "metadata": {},
     "output_type": "execute_result"
    }
   ],
   "source": [
    "\n",
    "dict_list = []\n",
    "\n",
    "for ocr_type in ocr_types_dict.values():\n",
    "    result_path = os.path.join(result_folder, f'{ocr_type}_{match_name}_metric_result.json')\n",
    "    print(result_path)\n",
    "    with open(result_path, 'r') as f:\n",
    "        result = json.load(f)\n",
    "    \n",
    "    save_dict = {}\n",
    "\n",
    "    for category_type, metric in [(\"text_block\", \"Edit_dist\"), (\"display_formula\", \"Edit_dist\"), (\"table\", \"TEDS\"), (\"table\", \"TEDS_structure_only\"), (\"reading_order\", \"Edit_dist\")]:\n",
    "        if metric == 'CDM' or metric == \"TEDS\" or metric == \"TEDS_structure_only\":\n",
    "            if result[category_type][\"page\"].get(metric):\n",
    "                save_dict[category_type+'_'+metric] = result[category_type][\"page\"][metric][\"ALL\"] * 100   # page级别的avg\n",
    "            else:\n",
    "                save_dict[category_type+'_'+metric] = 0\n",
    "        else:\n",
    "            save_dict[category_type+'_'+metric] = result[category_type][\"all\"][metric].get(\"ALL_page_avg\", np.nan)\n",
    "\n",
    "    dict_list.append(save_dict)\n",
    "    \n",
    "df = pd.DataFrame(dict_list, index=ocr_types_dict.keys()).round(3)\n",
    "df['overall'] = ((1-df['text_block_Edit_dist'])*100 + (1 - df['display_formula_Edit_dist']) * 100 + df['table_TEDS'])/3\n",
    "# df.to_csv('./overall.csv')\n",
    "\n",
    "df"
   ]
  },
  {
   "cell_type": "code",
   "execution_count": null,
   "metadata": {},
   "outputs": [],
   "source": []
  }
 ],
 "metadata": {
  "kernelspec": {
   "display_name": "Python 3 (ipykernel)",
   "language": "python",
   "name": "python3"
  },
  "language_info": {
   "codemirror_mode": {
    "name": "ipython",
    "version": 3
   },
   "file_extension": ".py",
   "mimetype": "text/x-python",
   "name": "python",
   "nbconvert_exporter": "python",
   "pygments_lexer": "ipython3",
   "version": "3.10.12"
  }
 },
 "nbformat": 4,
 "nbformat_minor": 4
}
